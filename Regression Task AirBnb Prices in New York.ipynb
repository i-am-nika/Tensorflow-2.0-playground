{
 "cells": [
  {
   "cell_type": "markdown",
   "id": "af7897ef-1d24-4f93-8534-05a69ee19006",
   "metadata": {},
   "source": [
    "# Predict AirBnb Prices in New York"
   ]
  },
  {
   "cell_type": "markdown",
   "id": "d82aaf07-81f0-4001-b5c6-dbd29fa92dcc",
   "metadata": {},
   "source": [
    "Data source: \n",
    "\n",
    "Kaggle, New York City Airbnb Open Data (Airbnb listings and metrics in NYC, NY, USA (2019) )"
   ]
  },
  {
   "cell_type": "markdown",
   "id": "2c0aef77-e3ad-458d-87b5-0d416c4a55a2",
   "metadata": {},
   "source": [
    "## Imports"
   ]
  },
  {
   "cell_type": "code",
   "execution_count": 3,
   "id": "14a0d207-c806-424f-845d-5771814124c3",
   "metadata": {},
   "outputs": [
    {
     "name": "stdout",
     "output_type": "stream",
     "text": [
      "2.12.0\n"
     ]
    }
   ],
   "source": [
    "import numpy as np\n",
    "import tensorflow as tf\n",
    "import matplotlib.pyplot as plt\n",
    "\n",
    "print(tf.__version__)"
   ]
  },
  {
   "cell_type": "markdown",
   "id": "4aaae230-63a8-4818-9416-1a176d9055aa",
   "metadata": {},
   "source": [
    "## Load data and take a look at it"
   ]
  },
  {
   "cell_type": "code",
   "execution_count": null,
   "id": "4c1d1a7b-678d-468f-a2ce-acca9324962b",
   "metadata": {},
   "outputs": [],
   "source": []
  },
  {
   "cell_type": "markdown",
   "id": "2e14c532-a3ac-41c2-a1ee-b65f2243d73d",
   "metadata": {},
   "source": [
    "## Data visualization and analysis"
   ]
  },
  {
   "cell_type": "code",
   "execution_count": null,
   "id": "c51ab076-f970-4626-a1fc-20d89501d8f2",
   "metadata": {},
   "outputs": [],
   "source": []
  },
  {
   "cell_type": "markdown",
   "id": "ddd46255-f640-4415-ab5d-96fc7428dbc0",
   "metadata": {},
   "source": [
    "## The Tensorflow 2 ML Approaches"
   ]
  },
  {
   "cell_type": "code",
   "execution_count": null,
   "id": "b1b499e1-add6-4653-9a85-81c5ed449bef",
   "metadata": {},
   "outputs": [],
   "source": []
  },
  {
   "cell_type": "markdown",
   "id": "33155e33-b553-49ec-a3aa-d977533fab04",
   "metadata": {},
   "source": [
    "## Conclusions"
   ]
  },
  {
   "cell_type": "code",
   "execution_count": null,
   "id": "f2f0e9a5-0d62-46da-85a2-0bcdf64d9bb6",
   "metadata": {},
   "outputs": [],
   "source": []
  }
 ],
 "metadata": {
  "kernelspec": {
   "display_name": "Python 3 (ipykernel)",
   "language": "python",
   "name": "python3"
  },
  "language_info": {
   "codemirror_mode": {
    "name": "ipython",
    "version": 3
   },
   "file_extension": ".py",
   "mimetype": "text/x-python",
   "name": "python",
   "nbconvert_exporter": "python",
   "pygments_lexer": "ipython3",
   "version": "3.11.5"
  }
 },
 "nbformat": 4,
 "nbformat_minor": 5
}
